{
 "cells": [
  {
   "cell_type": "markdown",
   "metadata": {},
   "source": [
    "# Quién es Quién en los Precios\n",
    "## OPI analytics - Prueba técnica Data Scientist (Intermedio)\n",
    "- **Made by:** Jorge Salvador Ruiz Montaño\n",
    "- **Fecha:** Noviembre 2020"
   ]
  },
  {
   "cell_type": "markdown",
   "metadata": {},
   "source": [
    "## Configuración del entorno de Spark"
   ]
  },
  {
   "cell_type": "code",
   "execution_count": 17,
   "metadata": {},
   "outputs": [],
   "source": [
    "# Librerias\n",
    "from pyspark import SparkContext\n",
    "from pyspark.sql import SparkSession\n",
    "\n",
    "# Librerias Spark (dataframes)\n",
    "from pyspark.sql.types import StructType, StructField \n",
    "from pyspark.sql.types import IntegerType, StringType, FloatType, DateType\n",
    "from pyspark.sql.types import Row\n",
    "\n",
    "# Librerias para Spark SQL\n",
    "from pyspark.sql import SQLContext\n",
    "\n",
    "# Librerias para graficado\n",
    "import pandas as pd\n",
    "import matplotlib.pyplot as plt\n",
    "from matplotlib.dates import YearLocator, MonthLocator, DateFormatter"
   ]
  },
  {
   "cell_type": "code",
   "execution_count": 2,
   "metadata": {},
   "outputs": [],
   "source": [
    "# Inicializar Spark\n",
    "spark = SparkContext(master='local', appName='QQP')\n",
    "# Inicializando SQL Context\n",
    "sqlContext = SQLContext(spark)"
   ]
  },
  {
   "cell_type": "code",
   "execution_count": 3,
   "metadata": {},
   "outputs": [],
   "source": [
    "# Creación del PATH al archivo .csv\n",
    "path = '/home/lastorder/Documents/OPI/QQP/all_data.csv'"
   ]
  },
  {
   "cell_type": "code",
   "execution_count": 4,
   "metadata": {},
   "outputs": [
    {
     "name": "stdout",
     "output_type": "stream",
     "text": [
      "\"producto\",\"presentacion\",\"marca\",\"categoria\",\"catalogo\",\"precio\",\"fechaRegistro\",\"cadenaComercial\",\"giro\",\"nombreComercial\",\"direccion\",\"estado\",\"municipio\",\"latitud\",\"longitud\"\n",
      "\"CUADERNO FORMA ITALIANA\",\"96 HOJAS PASTA DURA. CUADRICULA CHICA\",\"ESTRELLA\",\"MATERIAL ESCOLAR\",\"UTILES ESCOLARES\",25.9,\"2011-05-18 00:00:00.000\",\"ABASTECEDORA LUMEN\",\"PAPELERIAS\",\"ABASTECEDORA LUMEN SUCURSAL VILLA COAPA\",\"CANNES No. 6 ESQ. CANAL DE MIRAMONTES\",\"DISTRITO FEDERAL\",\"TLALPAN                                 \",19.29699,-99.125417\n",
      "\"CRAYONES\",\"CAJA 12 CERAS. JUMBO. C.B. 201423\",\"CRAYOLA\",\"MATERIAL ESCOLAR\",\"UTILES ESCOLARES\",27.5,\"2011-05-18 00:00:00.000\",\"ABASTECEDORA LUMEN\",\"PAPELERIAS\",\"ABASTECEDORA LUMEN SUCURSAL VILLA COAPA\",\"CANNES No. 6 ESQ. CANAL DE MIRAMONTES\",\"DISTRITO FEDERAL\",\"TLALPAN                                 \",19.29699,-99.125417\n",
      "\"CRAYONES\",\"CAJA 12 CERAS. TAMANO REGULAR C.B. 201034\",\"CRAYOLA\",\"MATERIAL ESCOLAR\",\"UTILES ESCOLARES\",13.9,\"2011-05-18 00:00:00.000\",\"ABASTECEDORA LUMEN\",\"PAPELERIAS\",\"ABASTECEDORA LUMEN SUCURSAL VILLA COAPA\",\"CANNES No. 6 ESQ. CANAL DE MIRAMONTES\",\"DISTRITO FEDERAL\",\"TLALPAN                                 \",19.29699,-99.125417\n"
     ]
    }
   ],
   "source": [
    "# Revisamos la estructura de la base de datos:\n",
    "!head -n 4 /home/lastorder/Documents/OPI/QQP/all_data.csv"
   ]
  },
  {
   "cell_type": "code",
   "execution_count": 5,
   "metadata": {},
   "outputs": [],
   "source": [
    "# Creamos el schema con la información de las columnas:\n",
    "\n",
    "qqpSchema = StructType([\n",
    "    StructField('producto',StringType(),False),\n",
    "    StructField('presentacion',StringType(),False),\n",
    "    StructField('marca',StringType(),False),\n",
    "    StructField('categoria',StringType(),False),\n",
    "    StructField('catalogo',StringType(),False),\n",
    "    StructField('precio',FloatType(),False),\n",
    "    StructField('fechaRegistro',DateType(),False),\n",
    "    StructField('cadenaComercial',StringType(),False),\n",
    "    StructField('giro',StringType(),False),\n",
    "    StructField('nombreComercial',StringType(),False),\n",
    "    StructField('direccion',StringType(),False),\n",
    "    StructField('estado',StringType(),False),\n",
    "    StructField('municipio',StringType(),False),\n",
    "    StructField('latitud',FloatType(),False),\n",
    "    StructField('longitud',FloatType(),False)\n",
    "])\n",
    "\n",
    "# Creamos el dataframe usando nuestro schema y el archivo .csv\n",
    "\n",
    "qqpDF = sqlContext.read.schema(qqpSchema).option('header','true') \\\n",
    "    .csv('all_data.csv')"
   ]
  },
  {
   "cell_type": "code",
   "execution_count": 6,
   "metadata": {},
   "outputs": [
    {
     "name": "stdout",
     "output_type": "stream",
     "text": [
      "+--------------------+--------------------+------------------+----------------+----------------+------+-------------+------------------+--------------------+--------------------+--------------------+----------------+--------------------+--------+---------+\n",
      "|            producto|        presentacion|             marca|       categoria|        catalogo|precio|fechaRegistro|   cadenaComercial|                giro|     nombreComercial|           direccion|          estado|           municipio| latitud| longitud|\n",
      "+--------------------+--------------------+------------------+----------------+----------------+------+-------------+------------------+--------------------+--------------------+--------------------+----------------+--------------------+--------+---------+\n",
      "|CUADERNO FORMA IT...|96 HOJAS PASTA DU...|          ESTRELLA|MATERIAL ESCOLAR|UTILES ESCOLARES|  25.9|   2011-05-18|ABASTECEDORA LUMEN|          PAPELERIAS|ABASTECEDORA LUME...|CANNES No. 6 ESQ....|DISTRITO FEDERAL|TLALPAN          ...|19.29699|-99.12542|\n",
      "|            CRAYONES|CAJA 12 CERAS. JU...|           CRAYOLA|MATERIAL ESCOLAR|UTILES ESCOLARES|  27.5|   2011-05-18|ABASTECEDORA LUMEN|          PAPELERIAS|ABASTECEDORA LUME...|CANNES No. 6 ESQ....|DISTRITO FEDERAL|TLALPAN          ...|19.29699|-99.12542|\n",
      "|            CRAYONES|CAJA 12 CERAS. TA...|           CRAYOLA|MATERIAL ESCOLAR|UTILES ESCOLARES|  13.9|   2011-05-18|ABASTECEDORA LUMEN|          PAPELERIAS|ABASTECEDORA LUME...|CANNES No. 6 ESQ....|DISTRITO FEDERAL|TLALPAN          ...|19.29699|-99.12542|\n",
      "|   COLORES DE MADERA|CAJA 12 PIEZAS LA...|          PINCELIN|MATERIAL ESCOLAR|UTILES ESCOLARES|  46.9|   2011-05-18|ABASTECEDORA LUMEN|          PAPELERIAS|ABASTECEDORA LUME...|CANNES No. 6 ESQ....|DISTRITO FEDERAL|TLALPAN          ...|19.29699|-99.12542|\n",
      "|         COLOR LARGO|CAJA 36 PIEZAS. C...|           CRAYOLA|MATERIAL ESCOLAR|UTILES ESCOLARES| 115.0|   2011-05-18|ABASTECEDORA LUMEN|          PAPELERIAS|ABASTECEDORA LUME...|CANNES No. 6 ESQ....|DISTRITO FEDERAL|TLALPAN          ...|19.29699|-99.12542|\n",
      "|           BOLIGRAFO|BLISTER 3 PIEZAS....|  BIC. CRISTAL GEL|MATERIAL ESCOLAR|UTILES ESCOLARES|  32.5|   2011-05-18|ABASTECEDORA LUMEN|          PAPELERIAS|ABASTECEDORA LUME...|CANNES No. 6 ESQ....|DISTRITO FEDERAL|TLALPAN          ...|19.29699|-99.12542|\n",
      "|      CINTA ADHESIVA|BOLSA 1 PIEZA. 12...|    SCOTCH 3M. 600|MATERIAL ESCOLAR|UTILES ESCOLARES|   9.0|   2011-05-18|ABASTECEDORA LUMEN|          PAPELERIAS|ABASTECEDORA LUME...|CANNES No. 6 ESQ....|DISTRITO FEDERAL|TLALPAN          ...|19.29699|-99.12542|\n",
      "|   COLORES DE MADERA|CAJA 24 PIEZAS. L...|    KORES. KOLORES|MATERIAL ESCOLAR|UTILES ESCOLARES|  95.9|   2011-05-18|ABASTECEDORA LUMEN|          PAPELERIAS|ABASTECEDORA LUME...|CANNES No. 6 ESQ....|DISTRITO FEDERAL|TLALPAN          ...|19.29699|-99.12542|\n",
      "|            CRAYONES|CAJA 24 CERAS. TA...|PAPER MATE. CARMEN|MATERIAL ESCOLAR|UTILES ESCOLARES|  23.2|   2011-05-18|ABASTECEDORA LUMEN|          PAPELERIAS|ABASTECEDORA LUME...|CANNES No. 6 ESQ....|DISTRITO FEDERAL|TLALPAN          ...|19.29699|-99.12542|\n",
      "|  PAN BLANCO BOLILLO|               PIEZA|               S/M|             PAN|         BASICOS|   1.2|   2011-01-10|COMERCIAL MEXICANA|TIENDA DE AUTOSER...|COMERCIAL MEXICAN...|AV. LAGO DE GUADA...|          MÉXICO|ATIZAPAN         ...|    null|     null|\n",
      "+--------------------+--------------------+------------------+----------------+----------------+------+-------------+------------------+--------------------+--------------------+--------------------+----------------+--------------------+--------+---------+\n",
      "only showing top 10 rows\n",
      "\n"
     ]
    }
   ],
   "source": [
    "# Corremos una acción de Spark para verificar que todo esté bien.\n",
    "qqpDF.show(10)"
   ]
  },
  {
   "cell_type": "code",
   "execution_count": 7,
   "metadata": {},
   "outputs": [],
   "source": [
    "# Eliminamos las filas que no vengan completas (que contengan campos en null).\n",
    "# Se podrían llenar algunos de esos nulls con valores aproximados pero por cuestiones de tiempo nos quedaremos con las filas que no contengan nulos.\n",
    "qqpDF = qqpDF.dropna()"
   ]
  },
  {
   "cell_type": "code",
   "execution_count": 8,
   "metadata": {},
   "outputs": [],
   "source": [
    "# Registramos la tabla para poder usar SQL context de Spark y trabajar con consultas SQL tradicionales.\n",
    "qqpDF.registerTempTable('qqpDF')"
   ]
  },
  {
   "cell_type": "code",
   "execution_count": 9,
   "metadata": {},
   "outputs": [
    {
     "name": "stdout",
     "output_type": "stream",
     "text": [
      "+--------------------+--------------------+--------+----------------+----------------+------+-------------+------------------+----------+--------------------+--------------------+----------------+--------------------+--------+---------+\n",
      "|            producto|        presentacion|   marca|       categoria|        catalogo|precio|fechaRegistro|   cadenaComercial|      giro|     nombreComercial|           direccion|          estado|           municipio| latitud| longitud|\n",
      "+--------------------+--------------------+--------+----------------+----------------+------+-------------+------------------+----------+--------------------+--------------------+----------------+--------------------+--------+---------+\n",
      "|CUADERNO FORMA IT...|96 HOJAS PASTA DU...|ESTRELLA|MATERIAL ESCOLAR|UTILES ESCOLARES|  25.9|   2011-05-18|ABASTECEDORA LUMEN|PAPELERIAS|ABASTECEDORA LUME...|CANNES No. 6 ESQ....|DISTRITO FEDERAL|TLALPAN          ...|19.29699|-99.12542|\n",
      "|            CRAYONES|CAJA 12 CERAS. JU...| CRAYOLA|MATERIAL ESCOLAR|UTILES ESCOLARES|  27.5|   2011-05-18|ABASTECEDORA LUMEN|PAPELERIAS|ABASTECEDORA LUME...|CANNES No. 6 ESQ....|DISTRITO FEDERAL|TLALPAN          ...|19.29699|-99.12542|\n",
      "|            CRAYONES|CAJA 12 CERAS. TA...| CRAYOLA|MATERIAL ESCOLAR|UTILES ESCOLARES|  13.9|   2011-05-18|ABASTECEDORA LUMEN|PAPELERIAS|ABASTECEDORA LUME...|CANNES No. 6 ESQ....|DISTRITO FEDERAL|TLALPAN          ...|19.29699|-99.12542|\n",
      "|   COLORES DE MADERA|CAJA 12 PIEZAS LA...|PINCELIN|MATERIAL ESCOLAR|UTILES ESCOLARES|  46.9|   2011-05-18|ABASTECEDORA LUMEN|PAPELERIAS|ABASTECEDORA LUME...|CANNES No. 6 ESQ....|DISTRITO FEDERAL|TLALPAN          ...|19.29699|-99.12542|\n",
      "|         COLOR LARGO|CAJA 36 PIEZAS. C...| CRAYOLA|MATERIAL ESCOLAR|UTILES ESCOLARES| 115.0|   2011-05-18|ABASTECEDORA LUMEN|PAPELERIAS|ABASTECEDORA LUME...|CANNES No. 6 ESQ....|DISTRITO FEDERAL|TLALPAN          ...|19.29699|-99.12542|\n",
      "+--------------------+--------------------+--------+----------------+----------------+------+-------------+------------------+----------+--------------------+--------------------+----------------+--------------------+--------+---------+\n",
      "only showing top 5 rows\n",
      "\n"
     ]
    }
   ],
   "source": [
    "# Ejecutamos una acción usando una consulta simple.\n",
    "sqlContext.sql('SELECT * FROM qqpDF').show(5)"
   ]
  },
  {
   "cell_type": "markdown",
   "metadata": {},
   "source": [
    "## Procesamiento de Datos:"
   ]
  },
  {
   "cell_type": "code",
   "execution_count": 11,
   "metadata": {},
   "outputs": [
    {
     "name": "stdout",
     "output_type": "stream",
     "text": [
      "+---------------+\n",
      "|count(producto)|\n",
      "+---------------+\n",
      "|       60489344|\n",
      "+---------------+\n",
      "\n"
     ]
    }
   ],
   "source": [
    "# a) ¿Cuántos registros hay?\n",
    "sqlContext.sql('SELECT COUNT(producto) FROM qqpDF').show(5)"
   ]
  },
  {
   "cell_type": "code",
   "execution_count": 12,
   "metadata": {},
   "outputs": [
    {
     "name": "stdout",
     "output_type": "stream",
     "text": [
      "+-------------------------+\n",
      "|count(DISTINCT categoria)|\n",
      "+-------------------------+\n",
      "|                       40|\n",
      "+-------------------------+\n",
      "\n"
     ]
    }
   ],
   "source": [
    "# b) ¿Cuántas categorias hay?\n",
    "sqlContext.sql('SELECT COUNT(DISTINCT categoria) FROM qqpDF').show(5)"
   ]
  },
  {
   "cell_type": "code",
   "execution_count": 13,
   "metadata": {},
   "outputs": [
    {
     "name": "stdout",
     "output_type": "stream",
     "text": [
      "+-------------------------------+\n",
      "|count(DISTINCT cadenaComercial)|\n",
      "+-------------------------------+\n",
      "|                            649|\n",
      "+-------------------------------+\n",
      "\n"
     ]
    }
   ],
   "source": [
    "# c) ¿Cuántas cadenas comerciales están siendo monitoreadas?\n",
    "sqlContext.sql('SELECT COUNT(DISTINCT cadenaComercial) FROM qqpDF').show(5)"
   ]
  },
  {
   "cell_type": "code",
   "execution_count": null,
   "metadata": {},
   "outputs": [],
   "source": [
    "# d) ¿Cómo podrías determinar la calidad de los datos?¿Detectaste algún tipo de inconsistencia o error en la fuente?\n",
    "# respuesta: Sí, algunos de los rows venían con campos nulos, para realizar correctamente el análisis se eliminaron los rows que contenian nulos con:\n",
    "# qqpDF = qqpDF.dropna()"
   ]
  },
  {
   "cell_type": "code",
   "execution_count": 14,
   "metadata": {},
   "outputs": [
    {
     "name": "stdout",
     "output_type": "stream",
     "text": [
      "+--------------------+-----------------+------------+\n",
      "|              estado|         producto|num_producto|\n",
      "+--------------------+-----------------+------------+\n",
      "|    DISTRITO FEDERAL|         REFRESCO|      280420|\n",
      "|              MÉXICO|         REFRESCO|      189705|\n",
      "|             JALISCO|         REFRESCO|       80943|\n",
      "|          GUANAJUATO|         REFRESCO|       48948|\n",
      "|          NUEVO LEÓN|         REFRESCO|       48881|\n",
      "|            TLAXCALA|         REFRESCO|       42614|\n",
      "| MICHOACÁN DE OCAMPO|DETERGENTE P/ROPA|       39348|\n",
      "|     BAJA CALIFORNIA|         REFRESCO|       36612|\n",
      "|        QUINTANA ROO|              FUD|       32931|\n",
      "|             YUCATÁN|         REFRESCO|       32805|\n",
      "|             SINALOA|         REFRESCO|       32421|\n",
      "|              SONORA|         REFRESCO|       32059|\n",
      "|              PUEBLA|         REFRESCO|       31191|\n",
      "|             TABASCO|         REFRESCO|       28397|\n",
      "| BAJA CALIFORNIA SUR|         REFRESCO|       27324|\n",
      "|COAHUILA DE ZARAGOZA|              FUD|       27105|\n",
      "|           QUERÉTARO|DETERGENTE P/ROPA|       25756|\n",
      "|          TAMAULIPAS|         REFRESCO|       20392|\n",
      "|           ZACATECAS|DETERGENTE P/ROPA|       20179|\n",
      "|             HIDALGO|         REFRESCO|       17920|\n",
      "|              COLIMA|DETERGENTE P/ROPA|       15422|\n",
      "|           CHIHUAHUA|DETERGENTE P/ROPA|       14798|\n",
      "|              OAXACA|         REFRESCO|       14313|\n",
      "|             CHIAPAS|         REFRESCO|       14172|\n",
      "|VERACRUZ DE IGNAC...|         REFRESCO|       13858|\n",
      "|            CAMPECHE|              FUD|       12403|\n",
      "|      AGUASCALIENTES|              FUD|       10319|\n",
      "|     SAN LUIS POTOSÍ|              FUD|        9693|\n",
      "|             DURANGO|        LAVADORAS|        9644|\n",
      "|            GUERRERO|         REFRESCO|        8731|\n",
      "|             MORELOS|         REFRESCO|        8609|\n",
      "|             NAYARIT|         REFRESCO|        7794|\n",
      "+--------------------+-----------------+------------+\n",
      "\n"
     ]
    }
   ],
   "source": [
    "# e) ¿Cuáles son los productos más monitoreados en cada entidad?\n",
    "# Basicamente los productos más traqueados son refrescos.\n",
    "sqlContext.sql(\"\"\"\n",
    "                SELECT  estado,\n",
    "                        producto,\n",
    "                        num_producto\n",
    "                FROM (SELECT estado,\n",
    "                             producto,\n",
    "                             COUNT(producto) AS num_producto,\n",
    "                             ROW_NUMBER() OVER(PARTITION BY estado ORDER BY COUNT(producto) DESC) AS RN\n",
    "                      FROM qqpDF\n",
    "                      WHERE estado IS NOT NULL\n",
    "                      AND municipio IS NOT NULL\n",
    "                      GROUP BY estado, producto) AS Master_table_product\n",
    "                WHERE RN = 1\n",
    "                ORDER BY 3 DESC\n",
    "                \"\"\").show(32)"
   ]
  },
  {
   "cell_type": "code",
   "execution_count": 15,
   "metadata": {},
   "outputs": [
    {
     "name": "stdout",
     "output_type": "stream",
     "text": [
      "+--------------------+------------------------+\n",
      "|     cadenaComercial|count(DISTINCT producto)|\n",
      "+--------------------+------------------------+\n",
      "|             SORIANA|                    1046|\n",
      "|            WAL-MART|                    1038|\n",
      "|MEGA COMERCIAL ME...|                    1036|\n",
      "|  COMERCIAL MEXICANA|                    1023|\n",
      "|            CHEDRAUI|                    1013|\n",
      "+--------------------+------------------------+\n",
      "only showing top 5 rows\n",
      "\n"
     ]
    }
   ],
   "source": [
    "# f) ¿Cuál es la cadena comercial con mayor variedad de productos monitoreados?\n",
    "# Como buscamos \"variedad\" y no \"cantidad\" se contaron cuantos productos distintos se ofrecen por cadena comercial.\n",
    "# Soriana es la cadena que ofrece más productos diferentes para ser monitoreados.\n",
    "sqlContext.sql(\"\"\"\n",
    "                SELECT  cadenaComercial,\n",
    "                        COUNT(DISTINCT producto)\n",
    "                FROM qqpDF\n",
    "                WHERE estado IS NOT NULL\n",
    "                AND municipio IS NOT NULL\n",
    "                GROUP BY cadenaComercial\n",
    "                ORDER BY 2 DESC\n",
    "               \"\"\").show(5)"
   ]
  },
  {
   "cell_type": "markdown",
   "metadata": {},
   "source": [
    "## Canasta Básica\n",
    "- Para crear la canasta básica nos basaremos en un estudio de la SEDECO, del mes de octubre del 2020 donde se obtuvieron en que cadenas comerciales se pueden obtener los productos de canasta básica más baratos.\n",
    "- Link: https://www.sedeco.cdmx.gob.mx/storage/app/media/Canasta%20Basica/2020/Octubre/21%20de%20octubre%202020.pdf\n",
    "- Para las marcas de los productos también se usaron los indices de precios de la canasta básica por la SEDECO (2018), donde se incluye la marca de cada elemento de la canasta:\n",
    "- Link: https://sedeco.cdmx.gob.mx/storage/app/media/Canasta%20Basica/2018/Enero/4_INDICE%20DE%20PRECIOS%20DE%20CANASTA%20BASICA%20DE%20LA%20DGACD%20.pdf\n",
    "\n"
   ]
  },
  {
   "cell_type": "code",
   "execution_count": 64,
   "metadata": {},
   "outputs": [],
   "source": [
    "# Vamos a hacer en análisis solo con el primer item de la canasta (Aceite de la marca 1-2-3 de CHEDRAUI\n",
    "# El proceso para la canasta completa \n",
    "Base_aceites = sqlContext.sql(\"\"\"\n",
    "                SELECT DISTINCT producto, marca, estado, municipio,fechaRegistro, precio \n",
    "                FROM qqpDF\n",
    "                WHERE cadenaComercial = 'CHEDRAUI'\n",
    "                AND producto LIKE '%ACEITE%'\n",
    "                AND marca = '1-2-3'\n",
    "                ORDER BY 6\n",
    "                \"\"\")"
   ]
  },
  {
   "cell_type": "code",
   "execution_count": 65,
   "metadata": {},
   "outputs": [
    {
     "name": "stdout",
     "output_type": "stream",
     "text": [
      "+--------+-----+-------------------+--------------------+-------------+------+\n",
      "|producto|marca|             estado|           municipio|fechaRegistro|precio|\n",
      "+--------+-----+-------------------+--------------------+-------------+------+\n",
      "|  ACEITE|1-2-3|     AGUASCALIENTES|      AGUASCALIENTES|   2015-05-20| 15.65|\n",
      "|  ACEITE|1-2-3|            YUCATÁN|MERIDA           ...|   2011-01-17|  15.8|\n",
      "|  ACEITE|1-2-3|MICHOACÁN DE OCAMPO|MORELIA          ...|   2011-01-17|  15.8|\n",
      "|  ACEITE|1-2-3|             MÉXICO|ATIZAPAN         ...|   2011-01-17|  15.8|\n",
      "|  ACEITE|1-2-3|             MÉXICO|TLALNEPANTLA     ...|   2014-10-06|  16.9|\n",
      "+--------+-----+-------------------+--------------------+-------------+------+\n",
      "only showing top 5 rows\n",
      "\n"
     ]
    }
   ],
   "source": [
    "# Desplegando el precio ordenado del Aceite por municipio podremos ver en que municipio es más económico y en que fechas.\n",
    "# Aquí se puede observar que el lugar donde el aceite es más accesible es en Iztapalapa con un precio de 15.3\n",
    "# Esto es sin tomar en cuenta la fecha de registro.\n",
    "\n",
    "# a) ¿Cuál es la ciudad más barata del país (Solo en Aceite)? aguascalientes(En 2015-05-20)\n",
    "Base_aceites.show(5)"
   ]
  },
  {
   "cell_type": "code",
   "execution_count": 66,
   "metadata": {},
   "outputs": [],
   "source": [
    "# Registramos la base de Aceites para trabajarla como tabla SQL.\n",
    "Base_aceites.registerTempTable('Base_aceites')"
   ]
  },
  {
   "cell_type": "code",
   "execution_count": 67,
   "metadata": {},
   "outputs": [
    {
     "name": "stdout",
     "output_type": "stream",
     "text": [
      "+--------+-----+---------+--------------------+-------------+------+\n",
      "|producto|marca|   estado|           municipio|fechaRegistro|precio|\n",
      "+--------+-----+---------+--------------------+-------------+------+\n",
      "|  ACEITE|1-2-3|QUERÉTARO|SANTIAGO DE QUERE...|   2013-06-12|  33.1|\n",
      "|  ACEITE|1-2-3|  YUCATÁN|MERIDA           ...|   2012-07-30| 31.45|\n",
      "|  ACEITE|1-2-3|  YUCATÁN|MERIDA           ...|   2012-07-23| 31.45|\n",
      "|  ACEITE|1-2-3|  MORELOS|          CUERNAVACA|   2016-02-29|  30.9|\n",
      "|  ACEITE|1-2-3|   MÉXICO|TOLUCA           ...|   2013-04-23|  29.9|\n",
      "+--------+-----+---------+--------------------+-------------+------+\n",
      "only showing top 5 rows\n",
      "\n"
     ]
    }
   ],
   "source": [
    "# Ordenando de manera descendiente para ver el precio del aceite más caro.\n",
    "# ¿Cuál es la ciudad más cara del país (Solo en Aceite)? \n",
    "# En este caso sería en Santiago de Queretaro (2013-06-12)\n",
    "sqlContext.sql(\"\"\"\n",
    "                SELECT * FROM Base_aceites\n",
    "                ORDER BY 6 DESC\n",
    "                \"\"\").show(5)"
   ]
  },
  {
   "cell_type": "code",
   "execution_count": 75,
   "metadata": {},
   "outputs": [],
   "source": [
    "# Creamos una base solo del área de Iztapala para análizar como han cambiado los precios con el tiempo.\n",
    "# Nota: lo mismo puede hacerse usando coordenadas en vez de municipio.\n",
    "Aceites_QRO = sqlContext.sql(\"\"\"\n",
    "                SELECT  fechaRegistro,\n",
    "                        precio        \n",
    "                FROM Base_aceites\n",
    "                WHERE municipio = 'AGUASCALIENTES'\n",
    "                ORDER BY 1 \n",
    "                \"\"\")"
   ]
  },
  {
   "cell_type": "code",
   "execution_count": 76,
   "metadata": {},
   "outputs": [],
   "source": [
    "# Creamos una base solo del área de Azcapotzalco para análizar como han cambiado los precios con el tiempo.\n",
    "# Nota: lo mismo puede hacerse usando coordenadas en vez de municipio.\n",
    "Aceites_Santi = sqlContext.sql(\"\"\"\n",
    "                SELECT  fechaRegistro, \n",
    "                        precio\n",
    "                FROM Base_aceites\n",
    "                WHERE municipio LIKE '%SANTIAGO DE QUERE%'\n",
    "                ORDER BY 1 \n",
    "                \"\"\")"
   ]
  },
  {
   "cell_type": "code",
   "execution_count": 77,
   "metadata": {},
   "outputs": [
    {
     "name": "stdout",
     "output_type": "stream",
     "text": [
      "+-------------+------+\n",
      "|fechaRegistro|precio|\n",
      "+-------------+------+\n",
      "|   2011-01-05| 21.85|\n",
      "|   2011-01-12| 21.85|\n",
      "|   2011-01-19|  19.9|\n",
      "|   2011-01-26|  19.9|\n",
      "|   2011-02-09|  19.9|\n",
      "|   2011-02-16|  19.9|\n",
      "|   2011-02-23|  23.5|\n",
      "|   2011-03-02|  23.5|\n",
      "|   2011-03-09|  23.5|\n",
      "|   2011-03-16|  23.5|\n",
      "+-------------+------+\n",
      "only showing top 10 rows\n",
      "\n"
     ]
    }
   ],
   "source": [
    "Aceites_Santi.show(10)"
   ]
  },
  {
   "cell_type": "code",
   "execution_count": 78,
   "metadata": {},
   "outputs": [
    {
     "name": "stdout",
     "output_type": "stream",
     "text": [
      "+-------------+------+\n",
      "|fechaRegistro|precio|\n",
      "+-------------+------+\n",
      "|   2015-01-07|  19.9|\n",
      "|   2015-01-14|  21.7|\n",
      "|   2015-01-21| 19.45|\n",
      "|   2015-01-28|  19.1|\n",
      "|   2015-02-04|  19.1|\n",
      "|   2015-02-11|  19.1|\n",
      "|   2015-02-18|  19.1|\n",
      "|   2015-02-25|  19.1|\n",
      "|   2015-03-04|  19.1|\n",
      "|   2015-03-11|  19.1|\n",
      "+-------------+------+\n",
      "only showing top 10 rows\n",
      "\n"
     ]
    }
   ],
   "source": [
    "Aceites_QRO.show(10)"
   ]
  },
  {
   "cell_type": "code",
   "execution_count": 79,
   "metadata": {},
   "outputs": [],
   "source": [
    "# Creando los dataframes en Pandas\n",
    "Aceites_QRO = Aceites_QRO.toPandas()\n",
    "Aceites_Santi = Aceites_Santi.toPandas()"
   ]
  },
  {
   "cell_type": "code",
   "execution_count": 91,
   "metadata": {},
   "outputs": [
    {
     "data": {
      "image/png": "[encoded data removed]",
      "text/plain": [
       "<Figure size 1080x504 with 1 Axes>"
      ]
     },
     "metadata": {
      "needs_background": "light"
     },
     "output_type": "display_data"
    }
   ],
   "source": [
    "# c) ¿Hay algún patrón estacional entre ellos?\n",
    "# Podemos ver como se disparan los precios en ciertas fechas por lo que si depende mucho de la estacionalidad.\n",
    "# vemos que el precio se mantiene cercado a los $ 25 a mediados de año y que a finales e inicios fulctua.\n",
    "\n",
    "# d) ¿Hay algún patron estacional entre años?\n",
    "# Si, a mediados de año el precio se suele mantener estable y fluctua a inicios y finales. Exceptuando en el 2013 que fue donde se dió el pico del\n",
    "# mayor precio.\n",
    "# Se deberían crear modelos para cada uno de los municipios, después crear un modelo general que los ajuste todos. Por motivos de tiempo solo lo hicimos\n",
    "# para el caso del precio del Aceite.\n",
    "\n",
    "\n",
    "plt.figure(figsize=(15,7))\n",
    "\n",
    "plt.title('Canasta básica (Aceites Precios)', fontdict={'fontweight':'bold', 'fontsize':15})\n",
    "\n",
    "plt.plot(Aceites_QRO.fechaRegistro, Aceites_QRO.precio, 'r.-', label='Queretaro')\n",
    "plt.plot(Aceites_Santi.fechaRegistro, Aceites_Santi.precio, 'b.-', label='Santiago')\n",
    "# \n",
    "plt.xticks(Aceites_Santi.fechaRegistro[::43])\n",
    "plt.xticks(rotation=45)\n",
    "\n",
    "plt.xlabel('Fecha')\n",
    "plt.ylabel('MXN')\n",
    "\n",
    "plt.legend()\n",
    "plt.show()"
   ]
  },
  {
   "cell_type": "code",
   "execution_count": 92,
   "metadata": {},
   "outputs": [],
   "source": [
    "# Para hacer el  mismo procedimiento (precio del Aceite 1-2-3) pero a nivel estado:\n",
    "Base_aceites_estado = sqlContext.sql(\"\"\"\n",
    "                SELECT DISTINCT producto, marca, estado,fechaRegistro, precio \n",
    "                FROM qqpDF\n",
    "                WHERE cadenaComercial = 'CHEDRAUI'\n",
    "                AND producto LIKE '%ACEITE%'\n",
    "                AND marca = '1-2-3'\n",
    "                ORDER BY 5 DESC\n",
    "                \"\"\")\n"
   ]
  },
  {
   "cell_type": "code",
   "execution_count": 93,
   "metadata": {},
   "outputs": [
    {
     "name": "stdout",
     "output_type": "stream",
     "text": [
      "+--------+-----+---------+-------------+------+\n",
      "|producto|marca|   estado|fechaRegistro|precio|\n",
      "+--------+-----+---------+-------------+------+\n",
      "|  ACEITE|1-2-3|QUERÉTARO|   2013-06-12|  33.1|\n",
      "|  ACEITE|1-2-3|  YUCATÁN|   2012-07-30| 31.45|\n",
      "|  ACEITE|1-2-3|  YUCATÁN|   2012-07-23| 31.45|\n",
      "|  ACEITE|1-2-3|  MORELOS|   2016-02-29|  30.9|\n",
      "|  ACEITE|1-2-3|   MÉXICO|   2013-04-23|  29.9|\n",
      "+--------+-----+---------+-------------+------+\n",
      "only showing top 5 rows\n",
      "\n"
     ]
    }
   ],
   "source": [
    "Base_aceites_estado.show(5)"
   ]
  },
  {
   "cell_type": "code",
   "execution_count": 94,
   "metadata": {},
   "outputs": [],
   "source": [
    "Base_aceites_estado.registerTempTable('Base_aceites_estado')"
   ]
  },
  {
   "cell_type": "code",
   "execution_count": 95,
   "metadata": {},
   "outputs": [
    {
     "name": "stdout",
     "output_type": "stream",
     "text": [
      "+---------+--------------------+------------------+\n",
      "|   estado|month(fechaRegistro)|   precio_promedio|\n",
      "+---------+--------------------+------------------+\n",
      "|QUERÉTARO|                   7|24.930454687638715|\n",
      "|  MORELOS|                   8|24.862499713897705|\n",
      "|  TABASCO|                   8|24.598571504865372|\n",
      "|  JALISCO|                   7| 24.06707307769031|\n",
      "|   OAXACA|                   1|24.046428407941544|\n",
      "+---------+--------------------+------------------+\n",
      "only showing top 5 rows\n",
      "\n"
     ]
    }
   ],
   "source": [
    "# d) ¿Cuál es el estado más caro y en qué mes (Para este caso en el precio del aceite de la canasta básica)?\n",
    "# NOTA: Este cálculo no diferencia los años para los meses.\n",
    "# Es Querétaro en Julio.\n",
    "# Para el caso de la canasta completa se deberían crear bases para cada uno de los productos con su marca y tienda predeterminada,\n",
    "# sumar los resultados de todos los productos juntos por fecha y sacar el promedio por mes, por falta de tiempo solo lo haremos con el Aceite.\n",
    "Base_aceites_estado_prom = sqlContext.sql(\"\"\"\n",
    "                SELECT  estado,\n",
    "                        MONTH(fechaRegistro),\n",
    "                        AVG(precio) AS precio_promedio \n",
    "                FROM Base_aceites_estado\n",
    "                GROUP BY estado, MONTH(fechaRegistro)\n",
    "                ORDER BY 3 DESC\n",
    "                \"\"\").show(5)"
   ]
  },
  {
   "cell_type": "code",
   "execution_count": 62,
   "metadata": {},
   "outputs": [],
   "source": [
    "# e) ¿cuáles son los principales riesgos de hacer análisis de series de tiempo con estos datos?\n",
    "# Que muchos productos se midieron en diferentes periodos de tiempo, por lo que están desfasadas las medidas.\n",
    "# Se puede observar lo anterior claramente en la gráfica de arriba. Donde las mediciones fueron hechas en diferentes meses de distintos años.\n",
    "# Es decir no tenemos una medición constante en el mismo intervalo para todos los productos."
   ]
  },
  {
   "cell_type": "code",
   "execution_count": null,
   "metadata": {},
   "outputs": [],
   "source": []
  },
  {
   "cell_type": "code",
   "execution_count": 50,
   "metadata": {},
   "outputs": [],
   "source": [
    "spark.stop()"
   ]
  }
 ],
 "metadata": {
  "kernelspec": {
   "display_name": "Python 3",
   "language": "python",
   "name": "python3"
  },
  "language_info": {
   "codemirror_mode": {
    "name": "ipython",
    "version": 3
   },
   "file_extension": ".py",
   "mimetype": "text/x-python",
   "name": "python",
   "nbconvert_exporter": "python",
   "pygments_lexer": "ipython3",
   "version": "3.8.3"
  }
 },
 "nbformat": 4,
 "nbformat_minor": 4
}
